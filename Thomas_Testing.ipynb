{
 "cells": [
  {
   "cell_type": "code",
   "execution_count": 1,
   "metadata": {},
   "outputs": [],
   "source": [
    "import numpy as np\n",
    "\n",
    "def getAP(conf,labels):\n",
    "    assert len(conf)==len(labels)\n",
    "    sortind = np.argsort(-conf)\n",
    "    tp = labels[sortind]==1; fp = labels[sortind]!=1\n",
    "    npos = np.sum(labels);\n",
    "\n",
    "    fp = np.cumsum(fp).astype('float32'); tp = np.cumsum(tp).astype('float32')\n",
    "    rec=tp/npos; prec=tp/(fp+tp)\n",
    "    tmp = (labels[sortind]==1).astype('float32')\n",
    "\n",
    "    return np.sum(tmp*prec)/npos\n",
    "\n",
    "def getClassificationMAP(confidence,labels):\n",
    "    ''' confidence and labels are of dimension n_samples x n_label '''\n",
    "\n",
    "    AP = []\n",
    "    for i in range(np.shape(labels)[1]):\n",
    "        AP.append(getAP(confidence[:,i], labels[:,i]))\n",
    "    return 100*sum(AP)/len(AP), AP"
   ]
  },
  {
   "cell_type": "code",
   "execution_count": 2,
   "metadata": {},
   "outputs": [],
   "source": [
    "conf = np.random.rand(2, 5)"
   ]
  },
  {
   "cell_type": "code",
   "execution_count": 3,
   "metadata": {},
   "outputs": [],
   "source": [
    "label = np.asarray([[0.0, 0.00, 0.00, 1.0, 1.0], [1.0, 0.0, 0.0, 0.0, 1.0]])"
   ]
  },
  {
   "cell_type": "code",
   "execution_count": 4,
   "metadata": {},
   "outputs": [
    {
     "name": "stderr",
     "output_type": "stream",
     "text": [
      "/home/ubuntu/anaconda3/lib/python3.6/site-packages/ipykernel_launcher.py:10: RuntimeWarning: invalid value encountered in true_divide\n",
      "  # Remove the CWD from sys.path while we load stuff.\n",
      "/home/ubuntu/anaconda3/lib/python3.6/site-packages/ipykernel_launcher.py:13: RuntimeWarning: invalid value encountered in true_divide\n",
      "  del sys.path[0]\n"
     ]
    },
    {
     "data": {
      "text/plain": [
       "(nan, [1.0, nan, nan, 1.0, 1.0])"
      ]
     },
     "execution_count": 4,
     "metadata": {},
     "output_type": "execute_result"
    }
   ],
   "source": [
    "getClassificationMAP(conf, label)"
   ]
  },
  {
   "cell_type": "code",
   "execution_count": null,
   "metadata": {},
   "outputs": [],
   "source": []
  }
 ],
 "metadata": {
  "kernelspec": {
   "display_name": "Python (myenv)",
   "language": "python",
   "name": "myenv"
  },
  "language_info": {
   "codemirror_mode": {
    "name": "ipython",
    "version": 3
   },
   "file_extension": ".py",
   "mimetype": "text/x-python",
   "name": "python",
   "nbconvert_exporter": "python",
   "pygments_lexer": "ipython3",
   "version": "3.6.3"
  }
 },
 "nbformat": 4,
 "nbformat_minor": 2
}
